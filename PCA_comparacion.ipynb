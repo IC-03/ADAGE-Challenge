{
 "cells": [
  {
   "cell_type": "markdown",
   "id": "28fb08a1",
   "metadata": {},
   "source": [
    "# Comparando diferentes implementaciones de PCA"
   ]
  },
  {
   "cell_type": "markdown",
   "id": "c384bda3",
   "metadata": {},
   "source": [
    "## 💫 Spark - Mlib"
   ]
  },
  {
   "cell_type": "code",
   "execution_count": 7,
   "id": "11635ec5",
   "metadata": {},
   "outputs": [],
   "source": [
    "from pyspark.sql import SparkSession\n",
    "from pyspark.ml.feature import PCA, VectorAssembler\n",
    "from pyspark.ml.linalg import Vectors"
   ]
  },
  {
   "cell_type": "code",
   "execution_count": 10,
   "id": "ee4cc368",
   "metadata": {},
   "outputs": [
    {
     "name": "stderr",
     "output_type": "stream",
     "text": [
      "25/05/08 18:55:11 WARN Utils: Service 'SparkUI' could not bind on port 4040. Attempting port 4041.\n",
      "                                                                                \r"
     ]
    },
    {
     "name": "stdout",
     "output_type": "stream",
     "text": [
      "+------------------------------------------+\n",
      "|pca_features                              |\n",
      "+------------------------------------------+\n",
      "|[-0.047992098823377724,0.9988477153453011]|\n",
      "|[-0.14397629647013316,2.9965431460359033] |\n",
      "|[-0.9988477153453011,-0.04799209882337772]|\n",
      "|[-1.0468398141686788,0.9508556165219234]  |\n",
      "|[-1.1428240118154342,2.9485510472125256]  |\n",
      "|[-2.0936796283373575,1.9017112330438468]  |\n",
      "|[-2.1416717271607353,2.900558948389148]   |\n",
      "|[-2.9965431460359033,-0.14397629647013316]|\n",
      "|[-3.092527343682659,1.853719134220469]    |\n",
      "|[-3.1405194425060365,2.85256684956577]    |\n",
      "|[-4.043382960204582,0.8068793200517903]   |\n",
      "|[-4.139367157851337,2.8045747507423924]   |\n",
      "|[-4.994238576726506,-0.23996049411688858] |\n",
      "|[-5.042230675549884,0.7588872212284126]   |\n",
      "|[-5.138214873196639,2.7565826519190146]   |\n",
      "|[-6.089070489718562,1.709742837750336]    |\n",
      "|[-6.13706258854194,2.708590553095637]     |\n",
      "+------------------------------------------+\n",
      "\n"
     ]
    }
   ],
   "source": [
    "# 1. Crear SparkSession\n",
    "spark = SparkSession.builder \\\n",
    "    .appName(\"PCA Example\") \\\n",
    "    .getOrCreate()\n",
    "\n",
    "# 2. Cargar datos desde archivo de texto\n",
    "data_path = \"./input/datos_1.txt\"\n",
    "\n",
    "# Leer archivo de texto y convertir a filas numéricas\n",
    "rdd = spark.sparkContext.textFile(data_path) \\\n",
    "    .map(lambda line: [float(x) for x in line.strip().split(\",\")])\n",
    "\n",
    "# Crear un DataFrame con nombres de columnas\n",
    "num_cols = len(rdd.first())\n",
    "columns = [f\"feature_{i}\" for i in range(num_cols)]\n",
    "df = rdd.toDF(columns)\n",
    "\n",
    "# 3. Ensamblar las columnas en una sola columna 'features'\n",
    "assembler = VectorAssembler(inputCols=columns, outputCol=\"features\")\n",
    "assembled = assembler.transform(df)\n",
    "\n",
    "# 4. Aplicar PCA (por ejemplo, a 2 componentes)\n",
    "pca = PCA(k=2, inputCol=\"features\", outputCol=\"pca_features\")\n",
    "model = pca.fit(assembled)\n",
    "result = model.transform(assembled)\n",
    "\n",
    "# 5. Mostrar resultado\n",
    "result.select(\"pca_features\").show(truncate=False)\n",
    "\n",
    "# 6. Detener Spark\n",
    "spark.stop()\n"
   ]
  },
  {
   "cell_type": "code",
   "execution_count": 15,
   "id": "d3e382da",
   "metadata": {},
   "outputs": [
    {
     "name": "stderr",
     "output_type": "stream",
     "text": [
      "/home/paula/Documentos/PAULA/NOVENO SEMESTRE/ANALISIS/challenge/env_challenge/lib/python3.12/site-packages/ppca/_ppca.py:23: RuntimeWarning: invalid value encountered in divide\n",
      "  return (X - self.means) / self.stds\n"
     ]
    }
   ],
   "source": [
    "from ppca import PPCA\n",
    "import numpy as np\n",
    "\n",
    "pathcsv = \"./input/datos_1.txt\"\n",
    "Y_p = np.genfromtxt(pathcsv, delimiter=\",\")  # convierte a numpy array\n",
    "\n",
    "# Fit PPCA\n",
    "model = PPCA()\n",
    "model.fit(Y_p, d=2)\n",
    "\n",
    "# Get the transformed latent space\n",
    "X_p = model.transform()\n"
   ]
  },
  {
   "cell_type": "code",
   "execution_count": 18,
   "id": "30d44dd2",
   "metadata": {},
   "outputs": [
    {
     "data": {
      "text/plain": [
       "array([[-7.07106806e-01,  7.07106742e-01],\n",
       "       [-7.07106737e-01, -7.07106819e-01],\n",
       "       [-1.66741348e-04,  3.27693236e-05]])"
      ]
     },
     "execution_count": 18,
     "metadata": {},
     "output_type": "execute_result"
    }
   ],
   "source": [
    "model.C"
   ]
  },
  {
   "cell_type": "code",
   "execution_count": 16,
   "id": "397054fa",
   "metadata": {},
   "outputs": [
    {
     "data": {
      "text/plain": [
       "array([[ 1.59980576, -0.58680118],\n",
       "       [ 0.36972898, -1.81687807],\n",
       "       [ 1.85040963,  0.39267174],\n",
       "       [ 1.23537124, -0.2223667 ],\n",
       "       [ 0.00529446, -1.45244359],\n",
       "       [ 0.25589833, -0.47297067],\n",
       "       [-0.35914006, -1.08800912],\n",
       "       [ 1.12154059,  1.12154069],\n",
       "       [-0.10853619, -0.1085362 ],\n",
       "       [-0.72357458, -0.72357464],\n",
       "       [ 0.14206768,  0.87093672],\n",
       "       [-1.08800909, -0.35914017],\n",
       "       [ 0.39267156,  1.85040965],\n",
       "       [-0.22236683,  1.2353712 ],\n",
       "       [-1.45244361,  0.00529431],\n",
       "       [-1.20183974,  0.98476723],\n",
       "       [-1.81687813,  0.36972879]])"
      ]
     },
     "execution_count": 16,
     "metadata": {},
     "output_type": "execute_result"
    }
   ],
   "source": [
    "X_p"
   ]
  }
 ],
 "metadata": {
  "kernelspec": {
   "display_name": "env_challenge",
   "language": "python",
   "name": "python3"
  },
  "language_info": {
   "codemirror_mode": {
    "name": "ipython",
    "version": 3
   },
   "file_extension": ".py",
   "mimetype": "text/x-python",
   "name": "python",
   "nbconvert_exporter": "python",
   "pygments_lexer": "ipython3",
   "version": "3.12.9"
  }
 },
 "nbformat": 4,
 "nbformat_minor": 5
}
